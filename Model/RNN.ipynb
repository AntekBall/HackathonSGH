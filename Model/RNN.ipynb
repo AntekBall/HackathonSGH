{
 "cells": [
  {
   "cell_type": "code",
   "execution_count": 1,
   "id": "b9f35be5-19f2-4274-a881-a0688cce8200",
   "metadata": {},
   "outputs": [],
   "source": [
    "import os\n",
    "import pandas as pd\n",
    "import numpy as np\n",
    "import matplotlib.pyplot as plt\n",
    "import seaborn as sns"
   ]
  },
  {
   "cell_type": "code",
   "execution_count": 2,
   "id": "1313cfae-9cce-4f4f-83de-e77b65819fbd",
   "metadata": {},
   "outputs": [],
   "source": [
    "df_transactions = pd.read_json('transactions.json', lines=True)\n",
    "df_users = pd.read_csv('users.csv')\n",
    "df_merchants = pd.read_csv('merchants.csv')"
   ]
  },
  {
   "cell_type": "code",
   "execution_count": 3,
   "id": "8f3de894-79c9-4745-880c-1a96cfb832fd",
   "metadata": {},
   "outputs": [],
   "source": [
    "df_merged = pd.merge(df_transactions, df_users, on='user_id', how='left')\n",
    "\n",
    "# Then, join the result with df_merchants on merchant_id\n",
    "df_merged = pd.merge(df_merged, df_merchants, on='merchant_id', how='left')\n"
   ]
  },
  {
   "cell_type": "code",
   "execution_count": 5,
   "id": "f7f9809a-6810-4433-93bf-429273e81ffb",
   "metadata": {},
   "outputs": [],
   "source": [
    "df = df_merged"
   ]
  },
  {
   "cell_type": "code",
   "execution_count": 6,
   "id": "4291b82e-2131-4067-8d40-f5346e198a4e",
   "metadata": {},
   "outputs": [],
   "source": [
    "categorical_cols = [\n",
    "    'channel', 'currency', 'device', 'payment_method', 'category',\n",
    "    'country_x', 'country_y', 'sex', 'education', 'primary_source_of_income'\n",
    "]\n",
    "\n",
    "binary_cols = [\n",
    "    'is_international', 'is_first_time_merchant', 'has_fraud_history'\n",
    "]\n",
    "\n",
    "numerical_cols = [\n",
    "    'amount', 'session_length_seconds', 'age', 'risk_score', 'trust_score',\n",
    "    'number_of_alerts_last_6_months', 'avg_transaction_amount',\n",
    "    'account_age_months', 'sum_of_monthly_expenses', 'sum_of_monthly_installments'\n",
    "]"
   ]
  },
  {
   "cell_type": "code",
   "execution_count": 7,
   "id": "01c7e5c9-9f0c-4b90-a8a0-de7c13e44e64",
   "metadata": {},
   "outputs": [],
   "source": [
    "df['timestamp'] = pd.to_datetime(df['timestamp'])\n",
    "df['signup_date'] = pd.to_datetime(df['signup_date'])\n",
    "\n",
    "# Temporal features\n",
    "df['hour'] = df['timestamp'].dt.hour\n",
    "df['day_of_week'] = df['timestamp'].dt.dayofweek\n",
    "df['days_since_signup'] = (df['timestamp'] - df['signup_date']).dt.total_seconds() / (3600 * 24)\n",
    "\n",
    "numerical_cols += ['hour', 'day_of_week', 'days_since_signup']\n",
    "\n",
    "# Location\n",
    "df['lat'] = df['location'].apply(lambda x: x['lat'] if isinstance(x, dict) else np.nan)\n",
    "df['long'] = df['location'].apply(lambda x: x['long'] if isinstance(x, dict) else np.nan)\n",
    "\n",
    "numerical_cols += ['lat', 'long']"
   ]
  },
  {
   "cell_type": "code",
   "execution_count": 8,
   "id": "1d982d15-fb35-46cc-8d7e-af8c54314354",
   "metadata": {},
   "outputs": [],
   "source": [
    "from sklearn.preprocessing import LabelEncoder, StandardScaler\n",
    "\n",
    "for col in categorical_cols:\n",
    "    df[col] = LabelEncoder().fit_transform(df[col].astype(str))\n",
    "\n",
    "scaler = StandardScaler()\n",
    "df[numerical_cols] = scaler.fit_transform(df[numerical_cols])\n",
    "\n",
    "for col in binary_cols:\n",
    "    df[col] = df[col].astype(int)"
   ]
  },
  {
   "cell_type": "code",
   "execution_count": 13,
   "id": "a1fd2e78-fb5e-4809-b214-a235f36c6b9e",
   "metadata": {},
   "outputs": [],
   "source": [
    "import numpy as np\n",
    "\n",
    "user_column = 'user_id'\n",
    "target_column = 'is_fraud'\n",
    "\n",
    "sequence_length = 10  # This we can fine tune probably down to like 3\n",
    "data_sequences = []\n",
    "labels = []\n",
    "\n",
    "# Padding value \n",
    "padding_value = 0  \n",
    "\n",
    "# Group by the user\n",
    "grouped = df.groupby(user_column)\n",
    "\n",
    "# Loop over each user\n",
    "for user_id, user_data in grouped:\n",
    "    # sort by timestap\n",
    "    user_data = user_data.sort_values(by='timestamp')\n",
    "    \n",
    "    # to np arrays\n",
    "    user_data_values = user_data[numerical_cols].values\n",
    "    \n",
    "    # pad with zeros if too few transactions\n",
    "    if len(user_data) < sequence_length:\n",
    "        \n",
    "        pad_length = sequence_length - len(user_data)\n",
    "        padding = np.full((pad_length, len(numerical_cols)), padding_value)  # Pad with zeros or np.nan\n",
    "        user_data_values = np.vstack([padding, user_data_values])  # Add padding at the beginning\n",
    "    \n",
    "    # Generate sequences \n",
    "    for i in range(sequence_length, len(user_data_values)):\n",
    "        data_sequences.append(user_data_values[i-sequence_length:i])  # Create sequence\n",
    "        labels.append(user_data[target_column].iloc[i])  # Append corresponding label\n",
    "\n",
    "# Convert to np arrays\n",
    "data_sequences = np.array(data_sequences)\n",
    "labels = np.array(labels)\n",
    "\n"
   ]
  },
  {
   "cell_type": "code",
   "execution_count": 14,
   "id": "a54002f5-67ff-4939-9095-535b3197b182",
   "metadata": {},
   "outputs": [],
   "source": [
    "from sklearn.model_selection import train_test_split\n",
    "\n",
    "X_train, X_test, y_train, y_test = train_test_split(data_sequences, labels, test_size=0.2, random_state=42)\n"
   ]
  },
  {
   "cell_type": "code",
   "execution_count": 25,
   "id": "35326783-b39d-4c5f-a278-16265c28498b",
   "metadata": {},
   "outputs": [
    {
     "name": "stderr",
     "output_type": "stream",
     "text": [
      "C:\\Users\\antek\\anaconda\\Lib\\site-packages\\keras\\src\\layers\\rnn\\rnn.py:200: UserWarning: Do not pass an `input_shape`/`input_dim` argument to a layer. When using Sequential models, prefer using an `Input(shape)` object as the first layer in the model instead.\n",
      "  super().__init__(**kwargs)\n"
     ]
    }
   ],
   "source": [
    "import tensorflow as tf\n",
    "from tensorflow.keras.models import Sequential\n",
    "from tensorflow.keras.layers import SimpleRNN, Dense, Dropout\n",
    "\n",
    "# Define RNN Model\n",
    "model = Sequential()\n",
    "\n",
    "# Adding RNN Layer(s)\n",
    "model.add(SimpleRNN(units=64, return_sequences=True, input_shape=(X_train.shape[1], X_train.shape[2])))\n",
    "model.add(Dropout(0.2))  # Adding dropout for regularization\n",
    "\n",
    "model.add(SimpleRNN(units=32))\n",
    "model.add(Dropout(0.2))\n",
    "\n",
    "# Output Layer\n",
    "model.add(Dense(1, activation='sigmoid'))  \n",
    "\n",
    "# Compile the model\n",
    "model.compile(optimizer='adam', loss='binary_crossentropy', metrics=['accuracy'])  \n"
   ]
  },
  {
   "cell_type": "code",
   "execution_count": 26,
   "id": "c81ec5cf-7686-4dab-8621-23aa608033b6",
   "metadata": {},
   "outputs": [
    {
     "name": "stdout",
     "output_type": "stream",
     "text": [
      "Epoch 1/10\n",
      "\u001b[1m7501/7501\u001b[0m \u001b[32m━━━━━━━━━━━━━━━━━━━━\u001b[0m\u001b[37m\u001b[0m \u001b[1m22s\u001b[0m 3ms/step - accuracy: 0.5095 - loss: 0.7122 - val_accuracy: 0.4515 - val_loss: 0.7078\n",
      "Epoch 2/10\n",
      "\u001b[1m7501/7501\u001b[0m \u001b[32m━━━━━━━━━━━━━━━━━━━━\u001b[0m\u001b[37m\u001b[0m \u001b[1m20s\u001b[0m 3ms/step - accuracy: 0.4876 - loss: 0.6947 - val_accuracy: 0.4749 - val_loss: 0.6969\n",
      "Epoch 3/10\n",
      "\u001b[1m7501/7501\u001b[0m \u001b[32m━━━━━━━━━━━━━━━━━━━━\u001b[0m\u001b[37m\u001b[0m \u001b[1m20s\u001b[0m 3ms/step - accuracy: 0.4884 - loss: 0.6969 - val_accuracy: 0.5935 - val_loss: 0.6864\n",
      "Epoch 4/10\n",
      "\u001b[1m7501/7501\u001b[0m \u001b[32m━━━━━━━━━━━━━━━━━━━━\u001b[0m\u001b[37m\u001b[0m \u001b[1m20s\u001b[0m 3ms/step - accuracy: 0.5416 - loss: 0.6911 - val_accuracy: 0.3363 - val_loss: 0.7025\n",
      "Epoch 5/10\n",
      "\u001b[1m7501/7501\u001b[0m \u001b[32m━━━━━━━━━━━━━━━━━━━━\u001b[0m\u001b[37m\u001b[0m \u001b[1m20s\u001b[0m 3ms/step - accuracy: 0.4589 - loss: 0.6978 - val_accuracy: 0.5323 - val_loss: 0.6900\n",
      "Epoch 6/10\n",
      "\u001b[1m7501/7501\u001b[0m \u001b[32m━━━━━━━━━━━━━━━━━━━━\u001b[0m\u001b[37m\u001b[0m \u001b[1m21s\u001b[0m 3ms/step - accuracy: 0.5170 - loss: 0.6925 - val_accuracy: 0.4830 - val_loss: 0.6939\n",
      "Epoch 7/10\n",
      "\u001b[1m7501/7501\u001b[0m \u001b[32m━━━━━━━━━━━━━━━━━━━━\u001b[0m\u001b[37m\u001b[0m \u001b[1m20s\u001b[0m 3ms/step - accuracy: 0.5202 - loss: 0.6933 - val_accuracy: 0.4730 - val_loss: 0.6952\n",
      "Epoch 8/10\n",
      "\u001b[1m7501/7501\u001b[0m \u001b[32m━━━━━━━━━━━━━━━━━━━━\u001b[0m\u001b[37m\u001b[0m \u001b[1m21s\u001b[0m 3ms/step - accuracy: 0.5186 - loss: 0.6933 - val_accuracy: 0.4915 - val_loss: 0.6916\n",
      "Epoch 9/10\n",
      "\u001b[1m7501/7501\u001b[0m \u001b[32m━━━━━━━━━━━━━━━━━━━━\u001b[0m\u001b[37m\u001b[0m \u001b[1m21s\u001b[0m 3ms/step - accuracy: 0.5097 - loss: 0.6927 - val_accuracy: 0.5014 - val_loss: 0.6917\n",
      "Epoch 10/10\n",
      "\u001b[1m7501/7501\u001b[0m \u001b[32m━━━━━━━━━━━━━━━━━━━━\u001b[0m\u001b[37m\u001b[0m \u001b[1m21s\u001b[0m 3ms/step - accuracy: 0.5219 - loss: 0.6919 - val_accuracy: 0.5777 - val_loss: 0.6884\n"
     ]
    }
   ],
   "source": [
    "from sklearn.utils.class_weight import compute_class_weight\n",
    "import numpy as np\n",
    "\n",
    "\n",
    "y_train_class = y_train  \n",
    "\n",
    "class_weights = compute_class_weight(class_weight='balanced', classes=np.unique(y_train_class), y=y_train_class)\n",
    "class_weight_dict = dict(zip(np.unique(y_train_class), class_weights))\n",
    "\n",
    "# Train the model with class weights\n",
    "history = model.fit(X_train, y_train, epochs=10, batch_size=32, class_weight=class_weight_dict, validation_data=(X_test, y_test))"
   ]
  },
  {
   "cell_type": "code",
   "execution_count": 28,
   "id": "7a1f8381-f99c-4343-9b5e-809b9f6e24c8",
   "metadata": {},
   "outputs": [
    {
     "name": "stdout",
     "output_type": "stream",
     "text": [
      "\u001b[1m1876/1876\u001b[0m \u001b[32m━━━━━━━━━━━━━━━━━━━━\u001b[0m\u001b[37m\u001b[0m \u001b[1m2s\u001b[0m 836us/step\n"
     ]
    },
    {
     "data": {
      "image/png": "[encoded data removed]",
      "text/plain": [
       "<Figure size 600x400 with 2 Axes>"
      ]
     },
     "metadata": {},
     "output_type": "display_data"
    },
    {
     "name": "stdout",
     "output_type": "stream",
     "text": [
      "Classification Report:\n",
      "               precision    recall  f1-score   support\n",
      "\n",
      "           0       0.92      0.59      0.72     54898\n",
      "           1       0.09      0.41      0.14      5105\n",
      "\n",
      "    accuracy                           0.58     60003\n",
      "   macro avg       0.50      0.50      0.43     60003\n",
      "weighted avg       0.84      0.58      0.67     60003\n",
      "\n",
      "AUC: 0.5064966962682356\n"
     ]
    }
   ],
   "source": [
    "from sklearn.metrics import confusion_matrix, classification_report, roc_auc_score\n",
    "import seaborn as sns\n",
    "import matplotlib.pyplot as plt\n",
    "\n",
    "\n",
    "y_pred = model.predict(X_test)  \n",
    "y_pred_class = (y_pred > 0.5).astype(int)  \n",
    "\n",
    "\n",
    "cm = confusion_matrix(y_test, y_pred_class)\n",
    "\n",
    "\n",
    "plt.figure(figsize=(6, 4))\n",
    "sns.heatmap(cm, annot=True, fmt='d', cmap='Blues', xticklabels=['No Fraud', 'Fraud'], yticklabels=['No Fraud', 'Fraud'])\n",
    "plt.xlabel('Predicted')\n",
    "plt.ylabel('True')\n",
    "plt.title('Confusion Matrix')\n",
    "plt.show()\n",
    "\n",
    "\n",
    "print(\"Classification Report:\\n\", classification_report(y_test, y_pred_class))\n",
    "\n",
    "\n",
    "auc = roc_auc_score(y_test, y_pred)\n",
    "print(f'AUC: {auc}')"
   ]
  },
  {
   "cell_type": "code",
   "execution_count": null,
   "id": "b878d906-a088-4ab9-8991-c33c62708ffa",
   "metadata": {},
   "outputs": [],
   "source": []
  }
 ],
 "metadata": {
  "kernelspec": {
   "display_name": "Python 3 (ipykernel)",
   "language": "python",
   "name": "python3"
  },
  "language_info": {
   "codemirror_mode": {
    "name": "ipython",
    "version": 3
   },
   "file_extension": ".py",
   "mimetype": "text/x-python",
   "name": "python",
   "nbconvert_exporter": "python",
   "pygments_lexer": "ipython3",
   "version": "3.12.7"
  }
 },
 "nbformat": 4,
 "nbformat_minor": 5
}
