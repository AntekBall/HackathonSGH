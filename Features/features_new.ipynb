{
 "cells": [
  {
   "cell_type": "code",
   "execution_count": 161,
   "id": "2bdc38f4",
   "metadata": {},
   "outputs": [],
   "source": [
    "import os\n",
    "import pandas as pd\n",
    "import numpy as np\n",
    "import matplotlib.pyplot as plt\n",
    "import seaborn as sns\n",
    "from scipy.stats import zscore\n",
    "from sklearn.model_selection import train_test_split\n",
    "from sklearn.metrics import confusion_matrix, accuracy_score, precision_score, recall_score, f1_score"
   ]
  },
  {
   "cell_type": "code",
   "execution_count": 162,
   "id": "ff86fdb4",
   "metadata": {},
   "outputs": [],
   "source": [
    "df_transactions = pd.read_json('../data/transactions.json', lines=True)\n",
    "df_users = pd.read_csv('../data/users.csv')\n",
    "df_merchants = pd.read_csv('../data/merchants.csv')"
   ]
  },
  {
   "cell_type": "markdown",
   "id": "732770e8",
   "metadata": {},
   "source": [
    "## Merge all tables"
   ]
  },
  {
   "cell_type": "code",
   "execution_count": 163,
   "id": "cacbe79c",
   "metadata": {},
   "outputs": [],
   "source": [
    "df_merged = pd.merge(df_transactions, df_users, on='user_id', how='left')\n",
    "df_merged = pd.merge(df_merged, df_merchants, on='merchant_id', how='left')\n",
    "df_merged = df_merged.rename(columns={'country_x': 'country_user', 'country_y': 'country_merchant'})\n",
    "df = df_merged"
   ]
  },
  {
   "cell_type": "code",
   "execution_count": 164,
   "id": "6b89da17",
   "metadata": {},
   "outputs": [
    {
     "data": {
      "text/html": [
       "<div>\n",
       "<style scoped>\n",
       "    .dataframe tbody tr th:only-of-type {\n",
       "        vertical-align: middle;\n",
       "    }\n",
       "\n",
       "    .dataframe tbody tr th {\n",
       "        vertical-align: top;\n",
       "    }\n",
       "\n",
       "    .dataframe thead th {\n",
       "        text-align: right;\n",
       "    }\n",
       "</style>\n",
       "<table border=\"1\" class=\"dataframe\">\n",
       "  <thead>\n",
       "    <tr style=\"text-align: right;\">\n",
       "      <th></th>\n",
       "      <th>transaction_id</th>\n",
       "      <th>timestamp</th>\n",
       "      <th>user_id</th>\n",
       "      <th>merchant_id</th>\n",
       "      <th>amount</th>\n",
       "      <th>channel</th>\n",
       "      <th>currency</th>\n",
       "      <th>device</th>\n",
       "      <th>location</th>\n",
       "      <th>payment_method</th>\n",
       "      <th>...</th>\n",
       "      <th>country_user</th>\n",
       "      <th>signup_date</th>\n",
       "      <th>risk_score</th>\n",
       "      <th>category</th>\n",
       "      <th>country_merchant</th>\n",
       "      <th>trust_score</th>\n",
       "      <th>number_of_alerts_last_6_months</th>\n",
       "      <th>avg_transaction_amount</th>\n",
       "      <th>account_age_months</th>\n",
       "      <th>has_fraud_history</th>\n",
       "    </tr>\n",
       "  </thead>\n",
       "  <tbody>\n",
       "    <tr>\n",
       "      <th>0</th>\n",
       "      <td>TX000000</td>\n",
       "      <td>2022-06-17 23:28:00</td>\n",
       "      <td>U14804</td>\n",
       "      <td>M0314</td>\n",
       "      <td>130.03</td>\n",
       "      <td>in-store</td>\n",
       "      <td>EUR</td>\n",
       "      <td>Android</td>\n",
       "      <td>{'lat': 40.057938, 'long': 14.959737}</td>\n",
       "      <td>debit_card</td>\n",
       "      <td>...</td>\n",
       "      <td>Sweden</td>\n",
       "      <td>2022-08-10</td>\n",
       "      <td>0.426675</td>\n",
       "      <td>travel</td>\n",
       "      <td>France</td>\n",
       "      <td>0.581711</td>\n",
       "      <td>3</td>\n",
       "      <td>74.97</td>\n",
       "      <td>23</td>\n",
       "      <td>1</td>\n",
       "    </tr>\n",
       "    <tr>\n",
       "      <th>1</th>\n",
       "      <td>TX000001</td>\n",
       "      <td>2022-01-04 15:39:00</td>\n",
       "      <td>U16634</td>\n",
       "      <td>M0675</td>\n",
       "      <td>132.00</td>\n",
       "      <td>online</td>\n",
       "      <td>EUR</td>\n",
       "      <td>Android</td>\n",
       "      <td>{'lat': 42.05935, 'long': 1.596625}</td>\n",
       "      <td>debit_card</td>\n",
       "      <td>...</td>\n",
       "      <td>France</td>\n",
       "      <td>2024-05-22</td>\n",
       "      <td>0.729627</td>\n",
       "      <td>electronics</td>\n",
       "      <td>Germany</td>\n",
       "      <td>0.568933</td>\n",
       "      <td>2</td>\n",
       "      <td>56.92</td>\n",
       "      <td>23</td>\n",
       "      <td>0</td>\n",
       "    </tr>\n",
       "    <tr>\n",
       "      <th>2</th>\n",
       "      <td>TX000002</td>\n",
       "      <td>2022-09-09 21:58:00</td>\n",
       "      <td>U18005</td>\n",
       "      <td>M0479</td>\n",
       "      <td>8.65</td>\n",
       "      <td>online</td>\n",
       "      <td>EUR</td>\n",
       "      <td>Android</td>\n",
       "      <td>{'lat': 50.923432, 'long': 21.795262}</td>\n",
       "      <td>credit_card</td>\n",
       "      <td>...</td>\n",
       "      <td>Italy</td>\n",
       "      <td>2021-05-18</td>\n",
       "      <td>0.393848</td>\n",
       "      <td>gaming</td>\n",
       "      <td>Denmark</td>\n",
       "      <td>0.608070</td>\n",
       "      <td>5</td>\n",
       "      <td>98.93</td>\n",
       "      <td>75</td>\n",
       "      <td>0</td>\n",
       "    </tr>\n",
       "    <tr>\n",
       "      <th>3</th>\n",
       "      <td>TX000003</td>\n",
       "      <td>2023-11-20 06:40:00</td>\n",
       "      <td>U13690</td>\n",
       "      <td>M0538</td>\n",
       "      <td>19.82</td>\n",
       "      <td>mobile</td>\n",
       "      <td>EUR</td>\n",
       "      <td>iOS</td>\n",
       "      <td>{'lat': 56.833396, 'long': -9.881566}</td>\n",
       "      <td>credit_card</td>\n",
       "      <td>...</td>\n",
       "      <td>Portugal</td>\n",
       "      <td>2021-09-05</td>\n",
       "      <td>0.393405</td>\n",
       "      <td>electronics</td>\n",
       "      <td>Portugal</td>\n",
       "      <td>0.592656</td>\n",
       "      <td>4</td>\n",
       "      <td>21.60</td>\n",
       "      <td>82</td>\n",
       "      <td>0</td>\n",
       "    </tr>\n",
       "    <tr>\n",
       "      <th>4</th>\n",
       "      <td>TX000004</td>\n",
       "      <td>2022-04-28 08:08:00</td>\n",
       "      <td>U04642</td>\n",
       "      <td>M0128</td>\n",
       "      <td>101.92</td>\n",
       "      <td>in-store</td>\n",
       "      <td>EUR</td>\n",
       "      <td>Android</td>\n",
       "      <td>{'lat': 54.042996, 'long': 2.168516}</td>\n",
       "      <td>credit_card</td>\n",
       "      <td>...</td>\n",
       "      <td>Austria</td>\n",
       "      <td>2023-06-01</td>\n",
       "      <td>0.524168</td>\n",
       "      <td>gaming</td>\n",
       "      <td>Spain</td>\n",
       "      <td>0.450223</td>\n",
       "      <td>4</td>\n",
       "      <td>60.61</td>\n",
       "      <td>82</td>\n",
       "      <td>0</td>\n",
       "    </tr>\n",
       "  </tbody>\n",
       "</table>\n",
       "<p>5 rows × 30 columns</p>\n",
       "</div>"
      ],
      "text/plain": [
       "  transaction_id           timestamp user_id merchant_id  amount   channel  \\\n",
       "0       TX000000 2022-06-17 23:28:00  U14804       M0314  130.03  in-store   \n",
       "1       TX000001 2022-01-04 15:39:00  U16634       M0675  132.00    online   \n",
       "2       TX000002 2022-09-09 21:58:00  U18005       M0479    8.65    online   \n",
       "3       TX000003 2023-11-20 06:40:00  U13690       M0538   19.82    mobile   \n",
       "4       TX000004 2022-04-28 08:08:00  U04642       M0128  101.92  in-store   \n",
       "\n",
       "  currency   device                               location payment_method  \\\n",
       "0      EUR  Android  {'lat': 40.057938, 'long': 14.959737}     debit_card   \n",
       "1      EUR  Android    {'lat': 42.05935, 'long': 1.596625}     debit_card   \n",
       "2      EUR  Android  {'lat': 50.923432, 'long': 21.795262}    credit_card   \n",
       "3      EUR      iOS  {'lat': 56.833396, 'long': -9.881566}    credit_card   \n",
       "4      EUR  Android   {'lat': 54.042996, 'long': 2.168516}    credit_card   \n",
       "\n",
       "   ...  country_user  signup_date  risk_score     category  country_merchant  \\\n",
       "0  ...        Sweden   2022-08-10    0.426675       travel            France   \n",
       "1  ...        France   2024-05-22    0.729627  electronics           Germany   \n",
       "2  ...         Italy   2021-05-18    0.393848       gaming           Denmark   \n",
       "3  ...      Portugal   2021-09-05    0.393405  electronics          Portugal   \n",
       "4  ...       Austria   2023-06-01    0.524168       gaming             Spain   \n",
       "\n",
       "  trust_score number_of_alerts_last_6_months avg_transaction_amount  \\\n",
       "0    0.581711                              3                  74.97   \n",
       "1    0.568933                              2                  56.92   \n",
       "2    0.608070                              5                  98.93   \n",
       "3    0.592656                              4                  21.60   \n",
       "4    0.450223                              4                  60.61   \n",
       "\n",
       "   account_age_months  has_fraud_history  \n",
       "0                  23                  1  \n",
       "1                  23                  0  \n",
       "2                  75                  0  \n",
       "3                  82                  0  \n",
       "4                  82                  0  \n",
       "\n",
       "[5 rows x 30 columns]"
      ]
     },
     "execution_count": 164,
     "metadata": {},
     "output_type": "execute_result"
    }
   ],
   "source": [
    "df.head()"
   ]
  },
  {
   "cell_type": "code",
   "execution_count": 165,
   "id": "900db874",
   "metadata": {},
   "outputs": [
    {
     "name": "stdout",
     "output_type": "stream",
     "text": [
      "<class 'pandas.core.frame.DataFrame'>\n",
      "RangeIndex: 500000 entries, 0 to 499999\n",
      "Data columns (total 30 columns):\n",
      " #   Column                          Non-Null Count   Dtype         \n",
      "---  ------                          --------------   -----         \n",
      " 0   transaction_id                  500000 non-null  object        \n",
      " 1   timestamp                       500000 non-null  datetime64[ns]\n",
      " 2   user_id                         500000 non-null  object        \n",
      " 3   merchant_id                     500000 non-null  object        \n",
      " 4   amount                          500000 non-null  float64       \n",
      " 5   channel                         500000 non-null  object        \n",
      " 6   currency                        500000 non-null  object        \n",
      " 7   device                          500000 non-null  object        \n",
      " 8   location                        500000 non-null  object        \n",
      " 9   payment_method                  500000 non-null  object        \n",
      " 10  is_international                500000 non-null  int64         \n",
      " 11  session_length_seconds          500000 non-null  int64         \n",
      " 12  is_first_time_merchant          500000 non-null  int64         \n",
      " 13  is_fraud                        500000 non-null  int64         \n",
      " 14  age                             500000 non-null  int64         \n",
      " 15  sex                             500000 non-null  object        \n",
      " 16  education                       403434 non-null  object        \n",
      " 17  primary_source_of_income        500000 non-null  object        \n",
      " 18  sum_of_monthly_installments     500000 non-null  float64       \n",
      " 19  sum_of_monthly_expenses         500000 non-null  float64       \n",
      " 20  country_user                    500000 non-null  object        \n",
      " 21  signup_date                     500000 non-null  object        \n",
      " 22  risk_score                      500000 non-null  float64       \n",
      " 23  category                        500000 non-null  object        \n",
      " 24  country_merchant                500000 non-null  object        \n",
      " 25  trust_score                     500000 non-null  float64       \n",
      " 26  number_of_alerts_last_6_months  500000 non-null  int64         \n",
      " 27  avg_transaction_amount          500000 non-null  float64       \n",
      " 28  account_age_months              500000 non-null  int64         \n",
      " 29  has_fraud_history               500000 non-null  int64         \n",
      "dtypes: datetime64[ns](1), float64(6), int64(8), object(15)\n",
      "memory usage: 114.4+ MB\n"
     ]
    }
   ],
   "source": [
    "df.info()"
   ]
  },
  {
   "cell_type": "markdown",
   "id": "84fffe82",
   "metadata": {},
   "source": [
    "## Feature engineering\n",
    "Created new columns:"
   ]
  },
  {
   "cell_type": "markdown",
   "id": "e4248132",
   "metadata": {},
   "source": [
    "(instead of `location`)\n",
    "- `latitude`\n",
    "- `longitude`"
   ]
  },
  {
   "cell_type": "code",
   "execution_count": 166,
   "id": "89f328cc",
   "metadata": {},
   "outputs": [],
   "source": [
    "# Extract latitude and longitude into separate columns\n",
    "df['latitude'] = df['location'].apply(lambda x: x['lat'])\n",
    "df['longitude'] = df['location'].apply(lambda x: x['long'])\n",
    "df.drop(columns=['location'], inplace=True)"
   ]
  },
  {
   "cell_type": "markdown",
   "id": "ad9ba5c3",
   "metadata": {},
   "source": [
    "- `hour`\n",
    "- `day_of_week`\n",
    "- `is_weekend`\n",
    "- `month`"
   ]
  },
  {
   "cell_type": "code",
   "execution_count": 167,
   "id": "e22d15ba",
   "metadata": {},
   "outputs": [],
   "source": [
    "# --------- Temporal data feature engineering\n",
    "df['hour'] = df['timestamp'].dt.hour\n",
    "df['day_of_week'] = df['timestamp'].dt.dayofweek  # 0=Monday\n",
    "df['is_weekend'] = df['day_of_week'] >= 5\n",
    "df['is_weekend'] = df['is_weekend'].astype(int)\n",
    "\n",
    "df['month'] = df['timestamp'].dt.month"
   ]
  },
  {
   "cell_type": "markdown",
   "id": "c735ffa1",
   "metadata": {},
   "source": [
    "- `time_since_last_user_txn`\n",
    "- `time_since_last_merchant_txn`\n",
    "- `time_since_last_user_merchant`"
   ]
  },
  {
   "cell_type": "code",
   "execution_count": 168,
   "id": "3bd0881a",
   "metadata": {},
   "outputs": [],
   "source": [
    "# Time Since Last Transaction: User-level\n",
    "df = df.sort_values(['user_id', 'timestamp'])\n",
    "df['time_since_last_user_txn'] = (\n",
    "    df.groupby('user_id')['timestamp']\n",
    "    .diff()\n",
    "    .dt.total_seconds()\n",
    ")\n",
    "\n",
    "# Time Since Last Transaction: Merchant-level\n",
    "df = df.sort_values(['merchant_id', 'timestamp'])\n",
    "df['time_since_last_merchant_txn'] = (\n",
    "    df.groupby('merchant_id')['timestamp']\n",
    "    .diff()\n",
    "    .dt.total_seconds()\n",
    ")\n",
    "\n",
    "df['last_user_merchant_ts'] = df.groupby(['user_id', 'merchant_id'])['timestamp'].shift(1)\n",
    "df['time_since_last_user_merchant'] = (df['timestamp'] - df['last_user_merchant_ts']).dt.total_seconds()\n",
    "\n",
    "df.drop(columns=['last_user_merchant_ts'], inplace=True)"
   ]
  },
  {
   "cell_type": "markdown",
   "id": "b9f2adef",
   "metadata": {},
   "source": [
    "- `prev_latitude`\n",
    "- `prev_longitude`\n",
    "- `distance_from_last_txn_km`\n",
    "-  `velocity_kmph`"
   ]
  },
  {
   "cell_type": "code",
   "execution_count": 169,
   "id": "588b73b7",
   "metadata": {},
   "outputs": [],
   "source": [
    "from math import radians, sin, cos, sqrt, atan2\n",
    "\n",
    "def haversine_distance(lat1, lon1, lat2, lon2):\n",
    "    R = 6371.0  # Earth radius in km\n",
    "    lat1, lon1, lat2, lon2 = map(radians, [lat1, lon1, lat2, lon2])\n",
    "    dlat = lat2 - lat1\n",
    "    dlon = lon2 - lon1\n",
    "\n",
    "    a = sin(dlat / 2)**2 + cos(lat1) * cos(lat2) * sin(dlon / 2)**2\n",
    "    c = 2 * atan2(sqrt(a), sqrt(1 - a))\n",
    "    return R * c  # distance in km"
   ]
  },
  {
   "cell_type": "code",
   "execution_count": 170,
   "id": "7847b562",
   "metadata": {},
   "outputs": [],
   "source": [
    "# --------- Geo-data feature engineering\n",
    "df.sort_values(by=['user_id', 'timestamp'], inplace=True)\n",
    "\n",
    "# Shift lat/lon to get last user's lat/lon\n",
    "df['prev_latitude'] = df.groupby('user_id')['latitude'].shift(1)\n",
    "df['prev_longitude'] = df.groupby('user_id')['longitude'].shift(1)\n",
    "\n",
    "df['distance_from_last_txn_km'] = df.apply(\n",
    "    lambda row: haversine_distance(row['prev_latitude'], row['prev_longitude'],\n",
    "                                   row['latitude'], row['longitude']),\n",
    "    axis=1\n",
    ")\n",
    "\n",
    "df['velocity_kmph'] = df.apply(\n",
    "    lambda row: (\n",
    "        row['distance_from_last_txn_km'] / (row['time_since_last_user_txn'] / 3600)\n",
    "        if row['time_since_last_user_txn'] > 0 else np.nan\n",
    "    ),\n",
    "    axis=1\n",
    ")"
   ]
  },
  {
   "cell_type": "markdown",
   "id": "d53a5611",
   "metadata": {},
   "source": [
    "- `merchant_fraud_rate`"
   ]
  },
  {
   "cell_type": "code",
   "execution_count": 171,
   "id": "2d1da520",
   "metadata": {},
   "outputs": [],
   "source": [
    "# # --------- Merchant data feature engineering\n",
    "# merchant_fraud_rates = df.groupby('merchant_id')['is_fraud'].mean()\n",
    "# df = df.merge(merchant_fraud_rates.rename('merchant_fraud_rate'), on='merchant_id')"
   ]
  },
  {
   "cell_type": "markdown",
   "id": "65a21fc9",
   "metadata": {},
   "source": [
    "- `rolling_fraud_count`\n",
    "- `rolling_txn_count`\n",
    "- `rolling_fraud_rate`"
   ]
  },
  {
   "cell_type": "code",
   "execution_count": 172,
   "id": "5690f5a0",
   "metadata": {},
   "outputs": [],
   "source": [
    "# parameters = {\n",
    "#     \"window\" : '1h',\n",
    "#     \"zscore_threshold\" : 3\n",
    "# }"
   ]
  },
  {
   "cell_type": "code",
   "execution_count": 173,
   "id": "93ecc608",
   "metadata": {},
   "outputs": [],
   "source": [
    "# df['timestamp'] = pd.to_datetime(df['timestamp'])\n",
    "# df = df.sort_values(by=['country_merchant', 'timestamp'])\n",
    "# df.set_index('timestamp', inplace=True)\n",
    "\n",
    "# # 8-hour rolling stats\n",
    "\n",
    "# df['rolling_fraud_count'] = (\n",
    "#     df\n",
    "#     .groupby('country_merchant')['is_fraud']\n",
    "#     .rolling(window=parameters['window'])\n",
    "#     .sum()\n",
    "#     .reset_index(level=0, drop=True)\n",
    "# )\n",
    "\n",
    "# df['rolling_txn_count'] = (\n",
    "#     df\n",
    "#     .groupby('country_merchant')['is_fraud']\n",
    "#     .rolling(window=parameters['window'])\n",
    "#     .count()\n",
    "#     .reset_index(level=0, drop=True)\n",
    "# )\n",
    "\n",
    "# # df['rolling_fraud_rate'] = (\n",
    "# #     df['rolling_fraud_count'] / df['rolling_txn_count']\n",
    "# # ).fillna(0)\n",
    "\n",
    "# df = df.reset_index()"
   ]
  },
  {
   "cell_type": "markdown",
   "id": "9fb21f41",
   "metadata": {},
   "source": [
    "- `fraud_rate_change`\n",
    "- `zscore_fraud_rate`\n",
    "- `rolling_fraud_rate`"
   ]
  },
  {
   "cell_type": "code",
   "execution_count": 174,
   "id": "cca79464",
   "metadata": {},
   "outputs": [],
   "source": [
    "# df['fraud_rate_change'] = (\n",
    "#     df.groupby('country_merchant')['rolling_fraud_rate'].diff()\n",
    "# )\n",
    "\n",
    "# # Z-score of fraud rate per country_merchant\n",
    "# df['zscore_fraud_rate'] = (\n",
    "#     df.groupby('country_merchant')['rolling_fraud_rate']\n",
    "#     .transform(lambda x: zscore(x.fillna(0)))\n",
    "# )\n",
    "\n",
    "# # # Attack starts: rate jumps or statistical spike\n",
    "# # df_merged['fraud_attack_start_flag'] = (\n",
    "# #     # (df_merged['fraud_rate_change'] > 0.15) |\n",
    "# #     (df_merged['zscore_fraud_rate'] > parameters['zscore_threshold'])\n",
    "# # )"
   ]
  },
  {
   "cell_type": "markdown",
   "id": "232ccf3b",
   "metadata": {},
   "source": [
    "- `number_unique_devices_last_day`"
   ]
  },
  {
   "cell_type": "code",
   "execution_count": 175,
   "id": "eb6641e3",
   "metadata": {},
   "outputs": [],
   "source": [
    "df['date'] = pd.to_datetime(df['timestamp']).dt.date\n",
    "tmp = df.groupby(['date', 'user_id'])['device'].nunique().reset_index()\n",
    "tmp.rename(columns={'device': 'number_unique_devices_last_day'}, inplace=True)\n",
    "df = df.merge(tmp, on=['date', 'user_id'], how='left')\n",
    "df = df.drop(columns=[\"date\"])"
   ]
  },
  {
   "cell_type": "code",
   "execution_count": 176,
   "id": "8df1322c",
   "metadata": {},
   "outputs": [],
   "source": [
    "# df['datetime_hour'] = pd.to_datetime(df['timestamp']).dt.floor('H')  # Zaokrąglenie do pełnej godziny\n",
    "\n",
    "# tmp = df.groupby(['datetime_hour', 'user_id'])['device'].nunique().reset_index()\n",
    "# tmp.rename(columns={'device': 'number_unique_devices_last_hour'}, inplace=True)\n",
    "\n",
    "# df = df.merge(tmp, on=['datetime_hour', 'user_id'], how='left')"
   ]
  },
  {
   "cell_type": "markdown",
   "id": "06fd03da",
   "metadata": {},
   "source": [
    "- `number_unique_devices_per_month`"
   ]
  },
  {
   "cell_type": "code",
   "execution_count": 177,
   "id": "29dd0639",
   "metadata": {},
   "outputs": [],
   "source": [
    "df['year_month'] = df['timestamp'].dt.strftime('%Y-%m')\n",
    "\n",
    "tmp = df.groupby(['year_month', 'user_id'])['device'].nunique().reset_index()\n",
    "tmp.rename(columns={'device': 'number_unique_devices_per_month'}, inplace=True)\n",
    "\n",
    "df = df.merge(tmp, on=['year_month', 'user_id'], how='left')\n",
    "df = df.drop(columns=[\"year_month\"])"
   ]
  },
  {
   "cell_type": "markdown",
   "id": "84d06063",
   "metadata": {},
   "source": [
    "- `number_unique_devices_per_year`"
   ]
  },
  {
   "cell_type": "code",
   "execution_count": 178,
   "id": "311f9f2a",
   "metadata": {},
   "outputs": [],
   "source": [
    "df['year'] = df['timestamp'].dt.year\n",
    "\n",
    "tmp = df.groupby(['year', 'user_id'])['device'].nunique().reset_index()\n",
    "tmp.rename(columns={'device': 'number_unique_devices_per_year'}, inplace=True)\n",
    "\n",
    "df = df.merge(tmp, on=['year', 'user_id'], how='left')\n",
    "df = df.drop(columns=[\"year\"])"
   ]
  },
  {
   "cell_type": "code",
   "execution_count": 179,
   "id": "082fef84",
   "metadata": {},
   "outputs": [],
   "source": [
    "# df[[\"date\", \"user_id\", \"device\", \"number_unique_devices_last_day\", \"number_unique_devices_per_month\", \"number_unique_devices_per_year\"]]"
   ]
  },
  {
   "cell_type": "code",
   "execution_count": 180,
   "id": "846ea6c8",
   "metadata": {},
   "outputs": [],
   "source": [
    "# df[df[\"user_id\"]==\"U00001\"][[\"date\", \"month\", \"user_id\", \"device\", \"number_unique_devices_last_day\", \"number_unique_devices_per_month\", \"number_unique_devices_per_year\", \"is_fraud\"]].sort_values(by=\"date\")"
   ]
  },
  {
   "cell_type": "markdown",
   "id": "9ca6e557",
   "metadata": {},
   "source": [
    "Checking the acumulated-device-number features:"
   ]
  },
  {
   "cell_type": "code",
   "execution_count": 181,
   "id": "217daa33",
   "metadata": {},
   "outputs": [
    {
     "name": "stdout",
     "output_type": "stream",
     "text": [
      "Number of frauds for 1 devices per day: 41444\tPercentage of frauds: 0.085.\n",
      "Number of frauds for 2 devices per day: 963\tPercentage of frauds: 0.085.\n",
      "Number of frauds for 3 devices per day: 4\tPercentage of frauds: 0.060.\n"
     ]
    }
   ],
   "source": [
    "for val in [int(x) for x in sorted(df[\"number_unique_devices_last_day\"].unique())]:\n",
    "    uniqdev = df[df[\"number_unique_devices_last_day\"]==val][\"is_fraud\"]\n",
    "    print(f\"Number of frauds for {val} devices per day: {sum(uniqdev)}\\tPercentage of frauds:{sum(uniqdev)/len(uniqdev): .3f}.\")"
   ]
  },
  {
   "cell_type": "code",
   "execution_count": 182,
   "id": "17683528",
   "metadata": {},
   "outputs": [],
   "source": [
    "# for val in [int(x) for x in sorted(df[\"number_unique_devices_per_month\"].unique())]:\n",
    "#     uniqdev = df[df[\"number_unique_devices_per_month\"]==val][\"is_fraud\"]\n",
    "#     print(f\"Number of frauds for {val} devices per month: {sum(uniqdev)}\\tPercentage of frauds:{sum(uniqdev)/len(uniqdev): .3f}.\")"
   ]
  },
  {
   "cell_type": "code",
   "execution_count": 183,
   "id": "48868493",
   "metadata": {},
   "outputs": [
    {
     "name": "stdout",
     "output_type": "stream",
     "text": [
      "Number of frauds for 1 devices per year: 11\tPercentage of frauds: 0.076.\n",
      "Number of frauds for 2 devices per year: 1279\tPercentage of frauds: 0.084.\n",
      "Number of frauds for 3 devices per year: 41121\tPercentage of frauds: 0.085.\n"
     ]
    }
   ],
   "source": [
    "for val in [int(x) for x in sorted(df[\"number_unique_devices_per_year\"].unique())]:\n",
    "    uniqdev = df[df[\"number_unique_devices_per_year\"]==val][\"is_fraud\"]\n",
    "    print(f\"Number of frauds for {val} devices per year: {sum(uniqdev)}\\tPercentage of frauds:{sum(uniqdev)/len(uniqdev): .3f}.\")"
   ]
  },
  {
   "cell_type": "markdown",
   "id": "1fa6de90",
   "metadata": {},
   "source": [
    "- `expenses_to_isntallment_ratio`"
   ]
  },
  {
   "cell_type": "code",
   "execution_count": 184,
   "id": "0147ec65",
   "metadata": {},
   "outputs": [],
   "source": [
    "df[\"expenses_to_isntallment_ratio\"] = df[\"sum_of_monthly_expenses\"] / df[\"sum_of_monthly_installments\"]"
   ]
  },
  {
   "cell_type": "markdown",
   "id": "94689d20",
   "metadata": {},
   "source": [
    "- `avg_daily_amount`\n",
    "- `percent_change_from_avg_daily_transaction_amount` = (`amount` - `avg_daily_amount`) / `avg_daily_amount`\n",
    "- `percent_diff_trans_amt_vs_merch_avg_amt` = (`amount` - `avg_transaction_amount`) / `avg_transaction_amount`"
   ]
  },
  {
   "cell_type": "code",
   "execution_count": 185,
   "id": "8bba5c9f",
   "metadata": {},
   "outputs": [],
   "source": [
    "df['date'] = pd.to_datetime(df['timestamp']).dt.date\n",
    "\n",
    "tmp = df.groupby(['date', 'user_id'])['amount'].mean().reset_index()\n",
    "tmp.rename(columns={'amount': 'avg_daily_amount'}, inplace=True)\n",
    "\n",
    "df = df.merge(tmp, on=['date', 'user_id'], how='left')\n",
    "df = df.drop(columns=[\"date\"])"
   ]
  },
  {
   "cell_type": "code",
   "execution_count": 186,
   "id": "5ec63858",
   "metadata": {},
   "outputs": [],
   "source": [
    "df[\"percent_change_from_avg_daily_transaction_amount\"] = (df[\"amount\"]-df[\"avg_daily_amount\"])/df[\"avg_daily_amount\"]"
   ]
  },
  {
   "cell_type": "code",
   "execution_count": 187,
   "id": "50597890",
   "metadata": {},
   "outputs": [],
   "source": [
    "df[\"percent_diff_trans_amt_vs_merch_avg_amt\"] = (df[\"amount\"]-df[\"avg_transaction_amount\"])/df[\"avg_transaction_amount\"]"
   ]
  },
  {
   "cell_type": "markdown",
   "id": "f909400f",
   "metadata": {},
   "source": [
    "TODO:\n",
    "- tx_amount/sum_of_monthly_expenses\n",
    "- std_dev_amount_of_tx_last_day\n",
    "- (!) merchanci albo kraje merchantow sa atakowane w konkretnych czasach?"
   ]
  },
  {
   "cell_type": "code",
   "execution_count": 188,
   "id": "a918f214",
   "metadata": {},
   "outputs": [
    {
     "data": {
      "text/html": [
       "<div>\n",
       "<style scoped>\n",
       "    .dataframe tbody tr th:only-of-type {\n",
       "        vertical-align: middle;\n",
       "    }\n",
       "\n",
       "    .dataframe tbody tr th {\n",
       "        vertical-align: top;\n",
       "    }\n",
       "\n",
       "    .dataframe thead th {\n",
       "        text-align: right;\n",
       "    }\n",
       "</style>\n",
       "<table border=\"1\" class=\"dataframe\">\n",
       "  <thead>\n",
       "    <tr style=\"text-align: right;\">\n",
       "      <th></th>\n",
       "      <th>transaction_id</th>\n",
       "      <th>timestamp</th>\n",
       "      <th>user_id</th>\n",
       "      <th>merchant_id</th>\n",
       "      <th>amount</th>\n",
       "      <th>channel</th>\n",
       "      <th>currency</th>\n",
       "      <th>device</th>\n",
       "      <th>payment_method</th>\n",
       "      <th>is_international</th>\n",
       "      <th>...</th>\n",
       "      <th>prev_longitude</th>\n",
       "      <th>distance_from_last_txn_km</th>\n",
       "      <th>velocity_kmph</th>\n",
       "      <th>number_unique_devices_last_day</th>\n",
       "      <th>number_unique_devices_per_month</th>\n",
       "      <th>number_unique_devices_per_year</th>\n",
       "      <th>expenses_to_isntallment_ratio</th>\n",
       "      <th>avg_daily_amount</th>\n",
       "      <th>percent_change_from_avg_daily_transaction_amount</th>\n",
       "      <th>percent_diff_trans_amt_vs_merch_avg_amt</th>\n",
       "    </tr>\n",
       "  </thead>\n",
       "  <tbody>\n",
       "    <tr>\n",
       "      <th>0</th>\n",
       "      <td>TX290822</td>\n",
       "      <td>2022-01-08 10:03:00</td>\n",
       "      <td>U00001</td>\n",
       "      <td>M0906</td>\n",
       "      <td>19.09</td>\n",
       "      <td>online</td>\n",
       "      <td>EUR</td>\n",
       "      <td>Web</td>\n",
       "      <td>debit_card</td>\n",
       "      <td>1</td>\n",
       "      <td>...</td>\n",
       "      <td>NaN</td>\n",
       "      <td>NaN</td>\n",
       "      <td>NaN</td>\n",
       "      <td>2</td>\n",
       "      <td>3</td>\n",
       "      <td>3</td>\n",
       "      <td>0.509075</td>\n",
       "      <td>25.665</td>\n",
       "      <td>-0.256185</td>\n",
       "      <td>-0.289013</td>\n",
       "    </tr>\n",
       "    <tr>\n",
       "      <th>1</th>\n",
       "      <td>TX197951</td>\n",
       "      <td>2022-01-08 16:48:00</td>\n",
       "      <td>U00001</td>\n",
       "      <td>M0245</td>\n",
       "      <td>32.24</td>\n",
       "      <td>online</td>\n",
       "      <td>EUR</td>\n",
       "      <td>Android</td>\n",
       "      <td>mobile_payment</td>\n",
       "      <td>1</td>\n",
       "      <td>...</td>\n",
       "      <td>-7.726250</td>\n",
       "      <td>1993.988051</td>\n",
       "      <td>295.405637</td>\n",
       "      <td>2</td>\n",
       "      <td>3</td>\n",
       "      <td>3</td>\n",
       "      <td>0.509075</td>\n",
       "      <td>25.665</td>\n",
       "      <td>0.256185</td>\n",
       "      <td>-0.836702</td>\n",
       "    </tr>\n",
       "    <tr>\n",
       "      <th>2</th>\n",
       "      <td>TX187979</td>\n",
       "      <td>2022-01-12 16:23:00</td>\n",
       "      <td>U00001</td>\n",
       "      <td>M0332</td>\n",
       "      <td>4.29</td>\n",
       "      <td>in-store</td>\n",
       "      <td>EUR</td>\n",
       "      <td>Android</td>\n",
       "      <td>debit_card</td>\n",
       "      <td>1</td>\n",
       "      <td>...</td>\n",
       "      <td>15.368695</td>\n",
       "      <td>1015.860215</td>\n",
       "      <td>10.628006</td>\n",
       "      <td>1</td>\n",
       "      <td>3</td>\n",
       "      <td>3</td>\n",
       "      <td>0.509075</td>\n",
       "      <td>4.290</td>\n",
       "      <td>0.000000</td>\n",
       "      <td>-0.766340</td>\n",
       "    </tr>\n",
       "    <tr>\n",
       "      <th>3</th>\n",
       "      <td>TX137034</td>\n",
       "      <td>2022-01-18 10:40:00</td>\n",
       "      <td>U00001</td>\n",
       "      <td>M0331</td>\n",
       "      <td>67.00</td>\n",
       "      <td>in-store</td>\n",
       "      <td>EUR</td>\n",
       "      <td>iOS</td>\n",
       "      <td>debit_card</td>\n",
       "      <td>1</td>\n",
       "      <td>...</td>\n",
       "      <td>30.255430</td>\n",
       "      <td>2556.056611</td>\n",
       "      <td>18.484199</td>\n",
       "      <td>1</td>\n",
       "      <td>3</td>\n",
       "      <td>3</td>\n",
       "      <td>0.509075</td>\n",
       "      <td>67.000</td>\n",
       "      <td>0.000000</td>\n",
       "      <td>-0.459285</td>\n",
       "    </tr>\n",
       "    <tr>\n",
       "      <th>4</th>\n",
       "      <td>TX401318</td>\n",
       "      <td>2022-07-18 08:05:00</td>\n",
       "      <td>U00001</td>\n",
       "      <td>M0971</td>\n",
       "      <td>3.59</td>\n",
       "      <td>in-store</td>\n",
       "      <td>EUR</td>\n",
       "      <td>Web</td>\n",
       "      <td>mobile_payment</td>\n",
       "      <td>1</td>\n",
       "      <td>...</td>\n",
       "      <td>3.843828</td>\n",
       "      <td>976.137696</td>\n",
       "      <td>0.224843</td>\n",
       "      <td>1</td>\n",
       "      <td>1</td>\n",
       "      <td>3</td>\n",
       "      <td>0.509075</td>\n",
       "      <td>3.590</td>\n",
       "      <td>0.000000</td>\n",
       "      <td>2.663265</td>\n",
       "    </tr>\n",
       "  </tbody>\n",
       "</table>\n",
       "<p>5 rows × 49 columns</p>\n",
       "</div>"
      ],
      "text/plain": [
       "  transaction_id           timestamp user_id merchant_id  amount   channel  \\\n",
       "0       TX290822 2022-01-08 10:03:00  U00001       M0906   19.09    online   \n",
       "1       TX197951 2022-01-08 16:48:00  U00001       M0245   32.24    online   \n",
       "2       TX187979 2022-01-12 16:23:00  U00001       M0332    4.29  in-store   \n",
       "3       TX137034 2022-01-18 10:40:00  U00001       M0331   67.00  in-store   \n",
       "4       TX401318 2022-07-18 08:05:00  U00001       M0971    3.59  in-store   \n",
       "\n",
       "  currency   device  payment_method  is_international  ...  prev_longitude  \\\n",
       "0      EUR      Web      debit_card                 1  ...             NaN   \n",
       "1      EUR  Android  mobile_payment                 1  ...       -7.726250   \n",
       "2      EUR  Android      debit_card                 1  ...       15.368695   \n",
       "3      EUR      iOS      debit_card                 1  ...       30.255430   \n",
       "4      EUR      Web  mobile_payment                 1  ...        3.843828   \n",
       "\n",
       "   distance_from_last_txn_km  velocity_kmph  number_unique_devices_last_day  \\\n",
       "0                        NaN            NaN                               2   \n",
       "1                1993.988051     295.405637                               2   \n",
       "2                1015.860215      10.628006                               1   \n",
       "3                2556.056611      18.484199                               1   \n",
       "4                 976.137696       0.224843                               1   \n",
       "\n",
       "  number_unique_devices_per_month number_unique_devices_per_year  \\\n",
       "0                               3                              3   \n",
       "1                               3                              3   \n",
       "2                               3                              3   \n",
       "3                               3                              3   \n",
       "4                               1                              3   \n",
       "\n",
       "  expenses_to_isntallment_ratio  avg_daily_amount  \\\n",
       "0                      0.509075            25.665   \n",
       "1                      0.509075            25.665   \n",
       "2                      0.509075             4.290   \n",
       "3                      0.509075            67.000   \n",
       "4                      0.509075             3.590   \n",
       "\n",
       "   percent_change_from_avg_daily_transaction_amount  \\\n",
       "0                                         -0.256185   \n",
       "1                                          0.256185   \n",
       "2                                          0.000000   \n",
       "3                                          0.000000   \n",
       "4                                          0.000000   \n",
       "\n",
       "  percent_diff_trans_amt_vs_merch_avg_amt  \n",
       "0                               -0.289013  \n",
       "1                               -0.836702  \n",
       "2                               -0.766340  \n",
       "3                               -0.459285  \n",
       "4                                2.663265  \n",
       "\n",
       "[5 rows x 49 columns]"
      ]
     },
     "execution_count": 188,
     "metadata": {},
     "output_type": "execute_result"
    }
   ],
   "source": [
    "df.head()"
   ]
  },
  {
   "cell_type": "code",
   "execution_count": 189,
   "id": "489ef8ab",
   "metadata": {},
   "outputs": [
    {
     "name": "stdout",
     "output_type": "stream",
     "text": [
      "<class 'pandas.core.frame.DataFrame'>\n",
      "RangeIndex: 500000 entries, 0 to 499999\n",
      "Data columns (total 49 columns):\n",
      " #   Column                                            Non-Null Count   Dtype         \n",
      "---  ------                                            --------------   -----         \n",
      " 0   transaction_id                                    500000 non-null  object        \n",
      " 1   timestamp                                         500000 non-null  datetime64[ns]\n",
      " 2   user_id                                           500000 non-null  object        \n",
      " 3   merchant_id                                       500000 non-null  object        \n",
      " 4   amount                                            500000 non-null  float64       \n",
      " 5   channel                                           500000 non-null  object        \n",
      " 6   currency                                          500000 non-null  object        \n",
      " 7   device                                            500000 non-null  object        \n",
      " 8   payment_method                                    500000 non-null  object        \n",
      " 9   is_international                                  500000 non-null  int64         \n",
      " 10  session_length_seconds                            500000 non-null  int64         \n",
      " 11  is_first_time_merchant                            500000 non-null  int64         \n",
      " 12  is_fraud                                          500000 non-null  int64         \n",
      " 13  age                                               500000 non-null  int64         \n",
      " 14  sex                                               500000 non-null  object        \n",
      " 15  education                                         403434 non-null  object        \n",
      " 16  primary_source_of_income                          500000 non-null  object        \n",
      " 17  sum_of_monthly_installments                       500000 non-null  float64       \n",
      " 18  sum_of_monthly_expenses                           500000 non-null  float64       \n",
      " 19  country_user                                      500000 non-null  object        \n",
      " 20  signup_date                                       500000 non-null  object        \n",
      " 21  risk_score                                        500000 non-null  float64       \n",
      " 22  category                                          500000 non-null  object        \n",
      " 23  country_merchant                                  500000 non-null  object        \n",
      " 24  trust_score                                       500000 non-null  float64       \n",
      " 25  number_of_alerts_last_6_months                    500000 non-null  int64         \n",
      " 26  avg_transaction_amount                            500000 non-null  float64       \n",
      " 27  account_age_months                                500000 non-null  int64         \n",
      " 28  has_fraud_history                                 500000 non-null  int64         \n",
      " 29  latitude                                          500000 non-null  float64       \n",
      " 30  longitude                                         500000 non-null  float64       \n",
      " 31  hour                                              500000 non-null  int32         \n",
      " 32  day_of_week                                       500000 non-null  int32         \n",
      " 33  is_weekend                                        500000 non-null  int64         \n",
      " 34  month                                             500000 non-null  int32         \n",
      " 35  time_since_last_user_txn                          480000 non-null  float64       \n",
      " 36  time_since_last_merchant_txn                      499000 non-null  float64       \n",
      " 37  time_since_last_user_merchant                     6215 non-null    float64       \n",
      " 38  prev_latitude                                     480000 non-null  float64       \n",
      " 39  prev_longitude                                    480000 non-null  float64       \n",
      " 40  distance_from_last_txn_km                         480000 non-null  float64       \n",
      " 41  velocity_kmph                                     479995 non-null  float64       \n",
      " 42  number_unique_devices_last_day                    500000 non-null  int64         \n",
      " 43  number_unique_devices_per_month                   500000 non-null  int64         \n",
      " 44  number_unique_devices_per_year                    500000 non-null  int64         \n",
      " 45  expenses_to_isntallment_ratio                     500000 non-null  float64       \n",
      " 46  avg_daily_amount                                  500000 non-null  float64       \n",
      " 47  percent_change_from_avg_daily_transaction_amount  499957 non-null  float64       \n",
      " 48  percent_diff_trans_amt_vs_merch_avg_amt           500000 non-null  float64       \n",
      "dtypes: datetime64[ns](1), float64(19), int32(3), int64(12), object(14)\n",
      "memory usage: 181.2+ MB\n"
     ]
    }
   ],
   "source": [
    "df.info()"
   ]
  },
  {
   "cell_type": "markdown",
   "id": "57e6cb7e",
   "metadata": {},
   "source": [
    "---------------------------------------------------------------------------------------\n",
    "# MODEL FOR FEATURE SELECTION: XGBOOST"
   ]
  },
  {
   "cell_type": "markdown",
   "id": "d600e161",
   "metadata": {},
   "source": [
    "Drop columns"
   ]
  },
  {
   "cell_type": "code",
   "execution_count": 190,
   "id": "1227f470",
   "metadata": {},
   "outputs": [],
   "source": [
    "cols_to_drop = ['transaction_id','user_id','timestamp','merchant_id','signup_date']\n",
    "df = df.drop(columns=cols_to_drop)"
   ]
  },
  {
   "cell_type": "code",
   "execution_count": 191,
   "id": "e8104abf",
   "metadata": {},
   "outputs": [],
   "source": [
    "cols_low_importance = ['risk_score', 'trust_score', 'payment_method', 'sex', 'is_international',\n",
    "'device', 'channel', 'number_unique_devices_last_day', 'number_unique_devices_per_month',\n",
    "'number_unique_devices_per_year', 'is_first_time_merchant', 'is_weekend', 'currency',\n",
    "'day_of_week', 'category', 'primary_source_of_income', 'education', 'has_fraud_history']\n",
    "\n",
    "df = df.drop(columns=cols_low_importance)"
   ]
  },
  {
   "cell_type": "code",
   "execution_count": 192,
   "id": "96fc94e0",
   "metadata": {},
   "outputs": [],
   "source": [
    "# df.to_csv(\"../data.csv\")"
   ]
  },
  {
   "cell_type": "code",
   "execution_count": 193,
   "id": "9d8338af",
   "metadata": {},
   "outputs": [],
   "source": [
    "from sklearn.model_selection import train_test_split\n",
    "\n",
    "X = df.drop('is_fraud',axis=1)\n",
    "y = df['is_fraud']\n",
    "\n",
    "X_train, X_test, y_train, y_test = train_test_split(X, y, test_size=0.3, random_state=42, stratify=y)"
   ]
  },
  {
   "cell_type": "code",
   "execution_count": 197,
   "id": "e870adcd",
   "metadata": {},
   "outputs": [],
   "source": [
    "categorical_cols = [\n",
    "    # 'channel', 'currency', 'device', 'payment_method', 'sex', 'category',\n",
    "    # 'education', 'primary_source_of_income', \n",
    "    'country_user', 'country_merchant'\n",
    "]\n",
    "\n",
    "# binary_cols = [\n",
    "#     'is_international', 'is_first_time_merchant', 'has_fraud_history'\n",
    "# ]\n",
    "\n",
    "# numerical_cols = [\n",
    "#     'amount', 'session_length_seconds', 'age', ##'risk_score', 'trust_score',\n",
    "#     'number_of_alerts_last_6_months', 'avg_transaction_amount',\n",
    "#     'account_age_months', 'sum_of_monthly_expenses', 'sum_of_monthly_installments'\n",
    "# ]"
   ]
  },
  {
   "cell_type": "code",
   "execution_count": 198,
   "id": "5a6c6c2e",
   "metadata": {},
   "outputs": [],
   "source": [
    "import xgboost as xgb\n",
    "from sklearn.metrics import accuracy_score, confusion_matrix, classification_report\n",
    "from sklearn.model_selection import train_test_split\n",
    "from sklearn.preprocessing import LabelEncoder\n",
    "from sklearn.utils.class_weight import compute_class_weight\n",
    "import numpy as np"
   ]
  },
  {
   "cell_type": "code",
   "execution_count": 199,
   "id": "e9dab58c",
   "metadata": {},
   "outputs": [],
   "source": [
    "for col in categorical_cols:\n",
    "    le = LabelEncoder()\n",
    "    X_train[col] = le.fit_transform(X_train[col])\n",
    "    X_test[col] = le.transform(X_test[col])"
   ]
  },
  {
   "cell_type": "code",
   "execution_count": 200,
   "id": "5120417e",
   "metadata": {},
   "outputs": [
    {
     "data": {
      "text/html": [
       "<div>\n",
       "<style scoped>\n",
       "    .dataframe tbody tr th:only-of-type {\n",
       "        vertical-align: middle;\n",
       "    }\n",
       "\n",
       "    .dataframe tbody tr th {\n",
       "        vertical-align: top;\n",
       "    }\n",
       "\n",
       "    .dataframe thead th {\n",
       "        text-align: right;\n",
       "    }\n",
       "</style>\n",
       "<table border=\"1\" class=\"dataframe\">\n",
       "  <thead>\n",
       "    <tr style=\"text-align: right;\">\n",
       "      <th></th>\n",
       "      <th>amount</th>\n",
       "      <th>session_length_seconds</th>\n",
       "      <th>age</th>\n",
       "      <th>sum_of_monthly_installments</th>\n",
       "      <th>sum_of_monthly_expenses</th>\n",
       "      <th>country_user</th>\n",
       "      <th>country_merchant</th>\n",
       "      <th>number_of_alerts_last_6_months</th>\n",
       "      <th>avg_transaction_amount</th>\n",
       "      <th>account_age_months</th>\n",
       "      <th>...</th>\n",
       "      <th>time_since_last_merchant_txn</th>\n",
       "      <th>time_since_last_user_merchant</th>\n",
       "      <th>prev_latitude</th>\n",
       "      <th>prev_longitude</th>\n",
       "      <th>distance_from_last_txn_km</th>\n",
       "      <th>velocity_kmph</th>\n",
       "      <th>expenses_to_isntallment_ratio</th>\n",
       "      <th>avg_daily_amount</th>\n",
       "      <th>percent_change_from_avg_daily_transaction_amount</th>\n",
       "      <th>percent_diff_trans_amt_vs_merch_avg_amt</th>\n",
       "    </tr>\n",
       "  </thead>\n",
       "  <tbody>\n",
       "    <tr>\n",
       "      <th>212380</th>\n",
       "      <td>71.75</td>\n",
       "      <td>59</td>\n",
       "      <td>67</td>\n",
       "      <td>56.58</td>\n",
       "      <td>2395.37</td>\n",
       "      <td>1</td>\n",
       "      <td>1</td>\n",
       "      <td>1</td>\n",
       "      <td>158.67</td>\n",
       "      <td>108</td>\n",
       "      <td>...</td>\n",
       "      <td>117300.0</td>\n",
       "      <td>NaN</td>\n",
       "      <td>38.081331</td>\n",
       "      <td>21.001987</td>\n",
       "      <td>3098.620349</td>\n",
       "      <td>3.693304</td>\n",
       "      <td>42.335984</td>\n",
       "      <td>64.26</td>\n",
       "      <td>0.116558</td>\n",
       "      <td>-0.547804</td>\n",
       "    </tr>\n",
       "    <tr>\n",
       "      <th>376082</th>\n",
       "      <td>40.16</td>\n",
       "      <td>423</td>\n",
       "      <td>22</td>\n",
       "      <td>87.45</td>\n",
       "      <td>235.14</td>\n",
       "      <td>5</td>\n",
       "      <td>8</td>\n",
       "      <td>1</td>\n",
       "      <td>227.12</td>\n",
       "      <td>17</td>\n",
       "      <td>...</td>\n",
       "      <td>10800.0</td>\n",
       "      <td>NaN</td>\n",
       "      <td>36.669629</td>\n",
       "      <td>35.255161</td>\n",
       "      <td>2272.189777</td>\n",
       "      <td>1.955245</td>\n",
       "      <td>2.688851</td>\n",
       "      <td>40.16</td>\n",
       "      <td>0.000000</td>\n",
       "      <td>-0.823177</td>\n",
       "    </tr>\n",
       "    <tr>\n",
       "      <th>170580</th>\n",
       "      <td>71.29</td>\n",
       "      <td>78</td>\n",
       "      <td>38</td>\n",
       "      <td>103.17</td>\n",
       "      <td>688.08</td>\n",
       "      <td>6</td>\n",
       "      <td>9</td>\n",
       "      <td>3</td>\n",
       "      <td>43.42</td>\n",
       "      <td>87</td>\n",
       "      <td>...</td>\n",
       "      <td>68400.0</td>\n",
       "      <td>NaN</td>\n",
       "      <td>40.760386</td>\n",
       "      <td>18.131515</td>\n",
       "      <td>2373.809573</td>\n",
       "      <td>6.917366</td>\n",
       "      <td>6.669381</td>\n",
       "      <td>71.29</td>\n",
       "      <td>0.000000</td>\n",
       "      <td>0.641870</td>\n",
       "    </tr>\n",
       "    <tr>\n",
       "      <th>361242</th>\n",
       "      <td>34.26</td>\n",
       "      <td>79</td>\n",
       "      <td>52</td>\n",
       "      <td>242.29</td>\n",
       "      <td>780.99</td>\n",
       "      <td>12</td>\n",
       "      <td>12</td>\n",
       "      <td>2</td>\n",
       "      <td>197.43</td>\n",
       "      <td>115</td>\n",
       "      <td>...</td>\n",
       "      <td>106080.0</td>\n",
       "      <td>NaN</td>\n",
       "      <td>56.954824</td>\n",
       "      <td>7.230118</td>\n",
       "      <td>1782.497533</td>\n",
       "      <td>7.116232</td>\n",
       "      <td>3.223369</td>\n",
       "      <td>34.26</td>\n",
       "      <td>0.000000</td>\n",
       "      <td>-0.826470</td>\n",
       "    </tr>\n",
       "    <tr>\n",
       "      <th>179136</th>\n",
       "      <td>41.29</td>\n",
       "      <td>230</td>\n",
       "      <td>46</td>\n",
       "      <td>499.25</td>\n",
       "      <td>141.41</td>\n",
       "      <td>12</td>\n",
       "      <td>3</td>\n",
       "      <td>2</td>\n",
       "      <td>34.03</td>\n",
       "      <td>111</td>\n",
       "      <td>...</td>\n",
       "      <td>104160.0</td>\n",
       "      <td>NaN</td>\n",
       "      <td>36.111012</td>\n",
       "      <td>0.263462</td>\n",
       "      <td>3378.734011</td>\n",
       "      <td>1.403080</td>\n",
       "      <td>0.283245</td>\n",
       "      <td>41.29</td>\n",
       "      <td>0.000000</td>\n",
       "      <td>0.213341</td>\n",
       "    </tr>\n",
       "  </tbody>\n",
       "</table>\n",
       "<p>5 rows × 25 columns</p>\n",
       "</div>"
      ],
      "text/plain": [
       "        amount  session_length_seconds  age  sum_of_monthly_installments  \\\n",
       "212380   71.75                      59   67                        56.58   \n",
       "376082   40.16                     423   22                        87.45   \n",
       "170580   71.29                      78   38                       103.17   \n",
       "361242   34.26                      79   52                       242.29   \n",
       "179136   41.29                     230   46                       499.25   \n",
       "\n",
       "        sum_of_monthly_expenses  country_user  country_merchant  \\\n",
       "212380                  2395.37             1                 1   \n",
       "376082                   235.14             5                 8   \n",
       "170580                   688.08             6                 9   \n",
       "361242                   780.99            12                12   \n",
       "179136                   141.41            12                 3   \n",
       "\n",
       "        number_of_alerts_last_6_months  avg_transaction_amount  \\\n",
       "212380                               1                  158.67   \n",
       "376082                               1                  227.12   \n",
       "170580                               3                   43.42   \n",
       "361242                               2                  197.43   \n",
       "179136                               2                   34.03   \n",
       "\n",
       "        account_age_months  ...  time_since_last_merchant_txn  \\\n",
       "212380                 108  ...                      117300.0   \n",
       "376082                  17  ...                       10800.0   \n",
       "170580                  87  ...                       68400.0   \n",
       "361242                 115  ...                      106080.0   \n",
       "179136                 111  ...                      104160.0   \n",
       "\n",
       "        time_since_last_user_merchant  prev_latitude  prev_longitude  \\\n",
       "212380                            NaN      38.081331       21.001987   \n",
       "376082                            NaN      36.669629       35.255161   \n",
       "170580                            NaN      40.760386       18.131515   \n",
       "361242                            NaN      56.954824        7.230118   \n",
       "179136                            NaN      36.111012        0.263462   \n",
       "\n",
       "        distance_from_last_txn_km  velocity_kmph  \\\n",
       "212380                3098.620349       3.693304   \n",
       "376082                2272.189777       1.955245   \n",
       "170580                2373.809573       6.917366   \n",
       "361242                1782.497533       7.116232   \n",
       "179136                3378.734011       1.403080   \n",
       "\n",
       "        expenses_to_isntallment_ratio  avg_daily_amount  \\\n",
       "212380                      42.335984             64.26   \n",
       "376082                       2.688851             40.16   \n",
       "170580                       6.669381             71.29   \n",
       "361242                       3.223369             34.26   \n",
       "179136                       0.283245             41.29   \n",
       "\n",
       "        percent_change_from_avg_daily_transaction_amount  \\\n",
       "212380                                          0.116558   \n",
       "376082                                          0.000000   \n",
       "170580                                          0.000000   \n",
       "361242                                          0.000000   \n",
       "179136                                          0.000000   \n",
       "\n",
       "        percent_diff_trans_amt_vs_merch_avg_amt  \n",
       "212380                                -0.547804  \n",
       "376082                                -0.823177  \n",
       "170580                                 0.641870  \n",
       "361242                                -0.826470  \n",
       "179136                                 0.213341  \n",
       "\n",
       "[5 rows x 25 columns]"
      ]
     },
     "execution_count": 200,
     "metadata": {},
     "output_type": "execute_result"
    }
   ],
   "source": [
    "X_train.head()"
   ]
  },
  {
   "cell_type": "code",
   "execution_count": 201,
   "id": "49665ba8",
   "metadata": {},
   "outputs": [
    {
     "name": "stdout",
     "output_type": "stream",
     "text": [
      "<class 'pandas.core.frame.DataFrame'>\n",
      "Index: 350000 entries, 212380 to 397774\n",
      "Data columns (total 25 columns):\n",
      " #   Column                                            Non-Null Count   Dtype  \n",
      "---  ------                                            --------------   -----  \n",
      " 0   amount                                            350000 non-null  float64\n",
      " 1   session_length_seconds                            350000 non-null  int64  \n",
      " 2   age                                               350000 non-null  int64  \n",
      " 3   sum_of_monthly_installments                       350000 non-null  float64\n",
      " 4   sum_of_monthly_expenses                           350000 non-null  float64\n",
      " 5   country_user                                      350000 non-null  int64  \n",
      " 6   country_merchant                                  350000 non-null  int64  \n",
      " 7   number_of_alerts_last_6_months                    350000 non-null  int64  \n",
      " 8   avg_transaction_amount                            350000 non-null  float64\n",
      " 9   account_age_months                                350000 non-null  int64  \n",
      " 10  latitude                                          350000 non-null  float64\n",
      " 11  longitude                                         350000 non-null  float64\n",
      " 12  hour                                              350000 non-null  int32  \n",
      " 13  month                                             350000 non-null  int32  \n",
      " 14  time_since_last_user_txn                          335974 non-null  float64\n",
      " 15  time_since_last_merchant_txn                      349316 non-null  float64\n",
      " 16  time_since_last_user_merchant                     4331 non-null    float64\n",
      " 17  prev_latitude                                     335974 non-null  float64\n",
      " 18  prev_longitude                                    335974 non-null  float64\n",
      " 19  distance_from_last_txn_km                         335974 non-null  float64\n",
      " 20  velocity_kmph                                     335972 non-null  float64\n",
      " 21  expenses_to_isntallment_ratio                     350000 non-null  float64\n",
      " 22  avg_daily_amount                                  350000 non-null  float64\n",
      " 23  percent_change_from_avg_daily_transaction_amount  349974 non-null  float64\n",
      " 24  percent_diff_trans_amt_vs_merch_avg_amt           350000 non-null  float64\n",
      "dtypes: float64(17), int32(2), int64(6)\n",
      "memory usage: 66.8 MB\n"
     ]
    }
   ],
   "source": [
    "X_train.info()"
   ]
  },
  {
   "cell_type": "code",
   "execution_count": 202,
   "id": "9332dde3",
   "metadata": {},
   "outputs": [
    {
     "name": "stdout",
     "output_type": "stream",
     "text": [
      "Accuracy: 0.5805466666666667\n",
      "\n",
      "Classification Report:\n",
      "               precision    recall  f1-score   support\n",
      "\n",
      "           0       0.92      0.60      0.72    137277\n",
      "           1       0.09      0.42      0.14     12723\n",
      "\n",
      "    accuracy                           0.58    150000\n",
      "   macro avg       0.50      0.51      0.43    150000\n",
      "weighted avg       0.85      0.58      0.67    150000\n",
      "\n"
     ]
    }
   ],
   "source": [
    "class_weights = compute_class_weight('balanced', classes=np.unique(y_train), y=y_train)\n",
    "class_weight_dict = dict(zip(np.unique(y_train), class_weights))\n",
    "scale_pos_weight = class_weight_dict[1] / class_weight_dict[0]  \n",
    "\n",
    "\n",
    "dtrain = xgb.DMatrix(X_train, label=y_train)\n",
    "dtest = xgb.DMatrix(X_test, label=y_test)\n",
    "\n",
    "\n",
    "params = {\n",
    "    'objective': 'binary:logistic',  \n",
    "    'eval_metric': 'logloss',        \n",
    "    'eta': 0.1,                      \n",
    "    'max_depth': 6,                   \n",
    "    'subsample': 0.8,                 \n",
    "    'colsample_bytree': 0.8,         \n",
    "    'scale_pos_weight': scale_pos_weight  \n",
    "}\n",
    "\n",
    "num_round = 100  \n",
    "bst = xgb.train(params, dtrain, num_round)\n",
    "\n",
    "\n",
    "y_pred_prob = bst.predict(dtest)\n",
    "y_pred = (y_pred_prob > 0.5).astype(int)  # Convert probabilities to binary predictions\n",
    "\n",
    "\n",
    "print(\"Accuracy:\", accuracy_score(y_test, y_pred))\n",
    "# print(\"Confusion Matrix:\\n\", confusion_matrix(y_test, y_pred))\n",
    "print(\"\\nClassification Report:\\n\", classification_report(y_test, y_pred))"
   ]
  },
  {
   "cell_type": "code",
   "execution_count": 203,
   "id": "53a41473",
   "metadata": {},
   "outputs": [
    {
     "data": {
      "image/png": "[encoded data removed]",
      "text/plain": [
       "<Figure size 600x400 with 2 Axes>"
      ]
     },
     "metadata": {},
     "output_type": "display_data"
    }
   ],
   "source": [
    "cm = confusion_matrix(y_test, y_pred)\n",
    "\n",
    "plt.figure(figsize=(6, 4))\n",
    "sns.heatmap(cm, annot=True, fmt='d', cmap='Blues', xticklabels=['No Fraud', 'Fraud'], yticklabels=['No Fraud', 'Fraud'])\n",
    "plt.xlabel('Predicted')\n",
    "plt.ylabel('True')\n",
    "plt.title('Confusion Matrix')\n",
    "plt.show()"
   ]
  },
  {
   "cell_type": "code",
   "execution_count": 204,
   "id": "f01ebd23",
   "metadata": {},
   "outputs": [
    {
     "name": "stdout",
     "output_type": "stream",
     "text": [
      "Feature Importance (using weight):\n",
      "{'amount': 179.0, 'session_length_seconds': 275.0, 'age': 171.0, 'sum_of_monthly_installments': 252.0, 'sum_of_monthly_expenses': 223.0, 'country_user': 114.0, 'country_merchant': 151.0, 'number_of_alerts_last_6_months': 98.0, 'avg_transaction_amount': 287.0, 'account_age_months': 242.0, 'latitude': 253.0, 'longitude': 251.0, 'hour': 163.0, 'month': 98.0, 'time_since_last_user_txn': 224.0, 'time_since_last_merchant_txn': 259.0, 'time_since_last_user_merchant': 75.0, 'prev_latitude': 256.0, 'prev_longitude': 287.0, 'distance_from_last_txn_km': 287.0, 'velocity_kmph': 226.0, 'expenses_to_isntallment_ratio': 212.0, 'avg_daily_amount': 144.0, 'percent_change_from_avg_daily_transaction_amount': 72.0, 'percent_diff_trans_amt_vs_merch_avg_amt': 186.0}\n"
     ]
    },
    {
     "data": {
      "image/png": "[encoded data removed]",
      "text/plain": [
       "<Figure size 640x480 with 1 Axes>"
      ]
     },
     "metadata": {},
     "output_type": "display_data"
    }
   ],
   "source": [
    "importance = bst.get_score(importance_type='weight')  \n",
    "\n",
    "\n",
    "print(\"Feature Importance (using weight):\")\n",
    "print(importance)\n",
    "\n",
    "\n",
    "xgb.plot_importance(bst, importance_type='weight') \n",
    "plt.show()"
   ]
  },
  {
   "cell_type": "code",
   "execution_count": 205,
   "id": "241c52af",
   "metadata": {},
   "outputs": [
    {
     "name": "stdout",
     "output_type": "stream",
     "text": [
      "Feature Importance (using weight):\n",
      "{'amount': 41.89485168457031, 'session_length_seconds': 39.74728775024414, 'age': 39.72682571411133, 'sum_of_monthly_installments': 43.91268539428711, 'sum_of_monthly_expenses': 40.99540710449219, 'country_user': 39.99038314819336, 'country_merchant': 40.558753967285156, 'number_of_alerts_last_6_months': 41.36237335205078, 'avg_transaction_amount': 44.400962829589844, 'account_age_months': 41.33203887939453, 'latitude': 39.252349853515625, 'longitude': 41.8036994934082, 'hour': 37.79169845581055, 'month': 41.15275192260742, 'time_since_last_user_txn': 43.688812255859375, 'time_since_last_merchant_txn': 42.16580581665039, 'time_since_last_user_merchant': 38.196163177490234, 'prev_latitude': 43.072200775146484, 'prev_longitude': 43.601200103759766, 'distance_from_last_txn_km': 42.627471923828125, 'velocity_kmph': 44.594791412353516, 'expenses_to_isntallment_ratio': 42.68032455444336, 'avg_daily_amount': 42.8294563293457, 'percent_change_from_avg_daily_transaction_amount': 36.66019058227539, 'percent_diff_trans_amt_vs_merch_avg_amt': 42.82011413574219}\n"
     ]
    },
    {
     "data": {
      "image/png": "[encoded data removed]",
      "text/plain": [
       "<Figure size 640x480 with 1 Axes>"
      ]
     },
     "metadata": {},
     "output_type": "display_data"
    }
   ],
   "source": [
    "importance = bst.get_score(importance_type='gain')  \n",
    "\n",
    "print(\"Feature Importance (using weight):\")\n",
    "print(importance)\n",
    "\n",
    "xgb.plot_importance(bst, importance_type='weight') \n",
    "plt.show()"
   ]
  },
  {
   "cell_type": "code",
   "execution_count": 206,
   "id": "e9834bd9",
   "metadata": {},
   "outputs": [
    {
     "data": {
      "image/png": "[encoded data removed]",
      "text/plain": [
       "<Figure size 800x600 with 1 Axes>"
      ]
     },
     "metadata": {},
     "output_type": "display_data"
    },
    {
     "name": "stdout",
     "output_type": "stream",
     "text": [
      "AUC: 0.5068338712325671\n"
     ]
    }
   ],
   "source": [
    "from sklearn.metrics import roc_auc_score, roc_curve, auc\n",
    "\n",
    "fpr, tpr, thresholds = roc_curve(y_test, y_pred)\n",
    "roc_auc = auc(fpr, tpr)\n",
    "\n",
    "plt.figure(figsize=(8, 6))\n",
    "plt.plot(fpr, tpr, color='darkorange', lw=2, label=f'ROC curve (AUC = {roc_auc:.2f})')\n",
    "plt.plot([0, 1], [0, 1], color='navy', lw=2, linestyle='--', label='Random guess')\n",
    "plt.xlabel('False Positive Rate')\n",
    "plt.ylabel('True Positive Rate')\n",
    "plt.title('Receiver Operating Characteristic (ROC) Curve')\n",
    "plt.legend(loc='lower right')\n",
    "plt.grid(True)\n",
    "plt.show()\n",
    "\n",
    "auc = roc_auc_score(y_test, y_pred)\n",
    "print(f'AUC: {auc}')"
   ]
  },
  {
   "cell_type": "code",
   "execution_count": null,
   "id": "5dd2bd4f",
   "metadata": {},
   "outputs": [],
   "source": []
  }
 ],
 "metadata": {
  "kernelspec": {
   "display_name": "hackaton-sgh",
   "language": "python",
   "name": "python3"
  },
  "language_info": {
   "codemirror_mode": {
    "name": "ipython",
    "version": 3
   },
   "file_extension": ".py",
   "mimetype": "text/x-python",
   "name": "python",
   "nbconvert_exporter": "python",
   "pygments_lexer": "ipython3",
   "version": "3.9.13"
  }
 },
 "nbformat": 4,
 "nbformat_minor": 5
}
